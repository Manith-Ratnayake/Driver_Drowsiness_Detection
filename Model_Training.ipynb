{
  "nbformat": 4,
  "nbformat_minor": 0,
  "metadata": {
    "colab": {
      "provenance": [],
      "machine_shape": "hm",
      "gpuType": "A100"
    },
    "kernelspec": {
      "name": "python3",
      "display_name": "Python 3"
    },
    "language_info": {
      "name": "python"
    },
    "accelerator": "GPU"
  },
  "cells": [
    {
      "cell_type": "code",
      "source": [
        "import kagglehub\n",
        "path = kagglehub.dataset_download(\"banudeep/nthuddd2\")"
      ],
      "metadata": {
        "colab": {
          "base_uri": "https://localhost:8080/"
        },
        "id": "fkI3_DGoNveD",
        "outputId": "583fc64f-1f8b-4efb-9543-5a546cc78712"
      },
      "execution_count": null,
      "outputs": [
        {
          "output_type": "stream",
          "name": "stdout",
          "text": [
            "Downloading from https://www.kaggle.com/api/v1/datasets/download/banudeep/nthuddd2?dataset_version_number=1...\n"
          ]
        },
        {
          "output_type": "stream",
          "name": "stderr",
          "text": [
            "100%|██████████| 2.81G/2.81G [00:18<00:00, 161MB/s]"
          ]
        },
        {
          "output_type": "stream",
          "name": "stdout",
          "text": [
            "Extracting files...\n"
          ]
        },
        {
          "output_type": "stream",
          "name": "stderr",
          "text": [
            "\n"
          ]
        }
      ]
    },
    {
      "cell_type": "code",
      "source": [
        "print(path)\n",
        "!ls  /root/.cache/kagglehub/datasets/banudeep/nthuddd2/versions/1"
      ],
      "metadata": {
        "colab": {
          "base_uri": "https://localhost:8080/"
        },
        "id": "lKDaShvaOM6i",
        "outputId": "b76204ca-64ae-4076-f33a-eacdac109db5"
      },
      "execution_count": null,
      "outputs": [
        {
          "output_type": "stream",
          "name": "stdout",
          "text": [
            "/root/.cache/kagglehub/datasets/banudeep/nthuddd2/versions/1\n",
            "train_data\n"
          ]
        }
      ]
    },
    {
      "cell_type": "code",
      "execution_count": null,
      "metadata": {
        "colab": {
          "base_uri": "https://localhost:8080/"
        },
        "id": "xcP2ccEoMwh0",
        "outputId": "47176fd6-8cdd-4dee-ce0e-37ca2275b77e"
      },
      "outputs": [
        {
          "output_type": "stream",
          "name": "stdout",
          "text": [
            "46564 :  9978 : 9979\n"
          ]
        },
        {
          "output_type": "stream",
          "name": "stderr",
          "text": [
            "Epoch 1/10 [Training]: 100%|██████████| 1456/1456 [06:56<00:00,  3.50it/s, accuracy=53.6, loss=0.667]\n",
            "Epoch 1/10 [Validation]: 100%|██████████| 312/312 [00:57<00:00,  5.41it/s, accuracy=54.9, loss=0.7]\n",
            "Epoch 1/10 [Testing]: 100%|██████████| 312/312 [00:56<00:00,  5.51it/s, accuracy=54.1]\n"
          ]
        },
        {
          "output_type": "stream",
          "name": "stdout",
          "text": [
            "Epoch 1/10 Summary --> Train Acc: 53.56%, Val Acc: 54.89%, Test Acc: 54.06%\n"
          ]
        },
        {
          "output_type": "stream",
          "name": "stderr",
          "text": [
            "Epoch 2/10 [Training]: 100%|██████████| 1456/1456 [06:53<00:00,  3.52it/s, accuracy=74.7, loss=0.203]\n",
            "Epoch 2/10 [Validation]: 100%|██████████| 312/312 [00:57<00:00,  5.43it/s, accuracy=93.6, loss=0.0511]\n",
            "Epoch 2/10 [Testing]: 100%|██████████| 312/312 [00:57<00:00,  5.42it/s, accuracy=93.6]\n"
          ]
        },
        {
          "output_type": "stream",
          "name": "stdout",
          "text": [
            "Epoch 2/10 Summary --> Train Acc: 74.71%, Val Acc: 93.60%, Test Acc: 93.61%\n"
          ]
        },
        {
          "output_type": "stream",
          "name": "stderr",
          "text": [
            "Epoch 3/10 [Training]: 100%|██████████| 1456/1456 [06:55<00:00,  3.51it/s, accuracy=95, loss=0.0313]\n",
            "Epoch 3/10 [Validation]: 100%|██████████| 312/312 [00:57<00:00,  5.39it/s, accuracy=95.2, loss=0.11]\n",
            "Epoch 3/10 [Testing]: 100%|██████████| 312/312 [00:58<00:00,  5.37it/s, accuracy=95.3]\n"
          ]
        },
        {
          "output_type": "stream",
          "name": "stdout",
          "text": [
            "Epoch 3/10 Summary --> Train Acc: 95.03%, Val Acc: 95.17%, Test Acc: 95.27%\n"
          ]
        },
        {
          "output_type": "stream",
          "name": "stderr",
          "text": [
            "Epoch 4/10 [Training]: 100%|██████████| 1456/1456 [06:52<00:00,  3.53it/s, accuracy=97.1, loss=0.00399]\n",
            "Epoch 4/10 [Validation]: 100%|██████████| 312/312 [00:56<00:00,  5.53it/s, accuracy=97.8, loss=0.0472]\n",
            "Epoch 4/10 [Testing]: 100%|██████████| 312/312 [00:56<00:00,  5.55it/s, accuracy=97.9]\n"
          ]
        },
        {
          "output_type": "stream",
          "name": "stdout",
          "text": [
            "Epoch 4/10 Summary --> Train Acc: 97.06%, Val Acc: 97.79%, Test Acc: 97.90%\n"
          ]
        },
        {
          "output_type": "stream",
          "name": "stderr",
          "text": [
            "Epoch 5/10 [Training]: 100%|██████████| 1456/1456 [06:53<00:00,  3.52it/s, accuracy=97.9, loss=0.000108]\n",
            "Epoch 5/10 [Validation]: 100%|██████████| 312/312 [00:57<00:00,  5.41it/s, accuracy=98.4, loss=0.0521]\n",
            "Epoch 5/10 [Testing]: 100%|██████████| 312/312 [00:57<00:00,  5.43it/s, accuracy=98.4]\n"
          ]
        },
        {
          "output_type": "stream",
          "name": "stdout",
          "text": [
            "Epoch 5/10 Summary --> Train Acc: 97.90%, Val Acc: 98.39%, Test Acc: 98.37%\n"
          ]
        },
        {
          "output_type": "stream",
          "name": "stderr",
          "text": [
            "Epoch 6/10 [Training]: 100%|██████████| 1456/1456 [06:52<00:00,  3.53it/s, accuracy=98.2, loss=0.000276]\n",
            "Epoch 6/10 [Validation]: 100%|██████████| 312/312 [00:56<00:00,  5.54it/s, accuracy=98.9, loss=0.0196]\n",
            "Epoch 6/10 [Testing]: 100%|██████████| 312/312 [00:56<00:00,  5.55it/s, accuracy=98.7]\n"
          ]
        },
        {
          "output_type": "stream",
          "name": "stdout",
          "text": [
            "Epoch 6/10 Summary --> Train Acc: 98.19%, Val Acc: 98.86%, Test Acc: 98.75%\n"
          ]
        },
        {
          "output_type": "stream",
          "name": "stderr",
          "text": [
            "Epoch 7/10 [Training]: 100%|██████████| 1456/1456 [06:53<00:00,  3.52it/s, accuracy=98.5, loss=0.000671]\n",
            "Epoch 7/10 [Validation]: 100%|██████████| 312/312 [00:56<00:00,  5.49it/s, accuracy=99, loss=0.0078]\n",
            "Epoch 7/10 [Testing]: 100%|██████████| 312/312 [00:57<00:00,  5.39it/s, accuracy=98.9]\n"
          ]
        },
        {
          "output_type": "stream",
          "name": "stdout",
          "text": [
            "Epoch 7/10 Summary --> Train Acc: 98.48%, Val Acc: 99.00%, Test Acc: 98.95%\n"
          ]
        },
        {
          "output_type": "stream",
          "name": "stderr",
          "text": [
            "Epoch 8/10 [Training]: 100%|██████████| 1456/1456 [06:51<00:00,  3.54it/s, accuracy=98.7, loss=0.00133]\n",
            "Epoch 8/10 [Validation]: 100%|██████████| 312/312 [00:56<00:00,  5.50it/s, accuracy=98.4, loss=0.000953]\n",
            "Epoch 8/10 [Testing]: 100%|██████████| 312/312 [00:56<00:00,  5.52it/s, accuracy=98.6]\n"
          ]
        },
        {
          "output_type": "stream",
          "name": "stdout",
          "text": [
            "Epoch 8/10 Summary --> Train Acc: 98.68%, Val Acc: 98.41%, Test Acc: 98.63%\n"
          ]
        },
        {
          "output_type": "stream",
          "name": "stderr",
          "text": [
            "Epoch 9/10 [Training]: 100%|██████████| 1456/1456 [06:53<00:00,  3.52it/s, accuracy=98.8, loss=5.8e-5]\n",
            "Epoch 9/10 [Validation]: 100%|██████████| 312/312 [00:56<00:00,  5.51it/s, accuracy=98.8, loss=0.0243]\n",
            "Epoch 9/10 [Testing]: 100%|██████████| 312/312 [00:56<00:00,  5.53it/s, accuracy=98.6]\n"
          ]
        },
        {
          "output_type": "stream",
          "name": "stdout",
          "text": [
            "Epoch 9/10 Summary --> Train Acc: 98.83%, Val Acc: 98.80%, Test Acc: 98.60%\n"
          ]
        },
        {
          "output_type": "stream",
          "name": "stderr",
          "text": [
            "Epoch 10/10 [Training]: 100%|██████████| 1456/1456 [06:53<00:00,  3.52it/s, accuracy=98.8, loss=0.0018]\n",
            "Epoch 10/10 [Validation]: 100%|██████████| 312/312 [00:56<00:00,  5.54it/s, accuracy=99.1, loss=0.00295]\n",
            "Epoch 10/10 [Testing]: 100%|██████████| 312/312 [00:56<00:00,  5.52it/s, accuracy=99.3]"
          ]
        },
        {
          "output_type": "stream",
          "name": "stdout",
          "text": [
            "Epoch 10/10 Summary --> Train Acc: 98.84%, Val Acc: 99.13%, Test Acc: 99.26%\n"
          ]
        },
        {
          "output_type": "stream",
          "name": "stderr",
          "text": [
            "\n"
          ]
        }
      ],
      "source": [
        "import os\n",
        "import torch\n",
        "import torchvision.transforms as transforms\n",
        "from torchvision.datasets import ImageFolder\n",
        "from torch.utils.data import DataLoader, random_split\n",
        "import torch.nn as nn\n",
        "import torch.optim as optim\n",
        "from torchvision import models\n",
        "from tqdm import tqdm\n",
        "from torchvision.models import convnext_tiny\n",
        "\n",
        "\n",
        "# Set device\n",
        "device = torch.device(\"cuda\" if torch.cuda.is_available() else \"cpu\")\n",
        "\n",
        "# --- Data preprocessing ---\n",
        "transform = transforms.Compose([\n",
        "    transforms.Resize((224, 224)),\n",
        "    transforms.ToTensor(),\n",
        "    transforms.Normalize([0.5]*3, [0.5]*3)\n",
        "])\n",
        "\n",
        "dataset = ImageFolder(\"/root/.cache/kagglehub/datasets/banudeep/nthuddd2/versions/1/train_data\", transform=transform)\n",
        "\n",
        "# --- Split the dataset ---\n",
        "total_size = len(dataset)\n",
        "train_size = int(0.7 * total_size)\n",
        "val_size = int(0.15 * total_size)\n",
        "test_size = total_size - train_size - val_size\n",
        "\n",
        "train_dataset, val_dataset, test_dataset = random_split(dataset, [train_size, val_size, test_size])\n",
        "\n",
        "train_loader = DataLoader(train_dataset, batch_size=32, shuffle=True)\n",
        "val_loader = DataLoader(val_dataset, batch_size=32, shuffle=False)\n",
        "test_loader = DataLoader(test_dataset, batch_size=32, shuffle=False)\n",
        "\n",
        "print(f\"{train_size} :  {val_size} : {test_size}\")\n",
        "\n",
        "model = convnext_tiny(pretrained=True)\n",
        "model.classifier[2] = nn.Linear(model.classifier[2].in_features, 2)# 2 classes: drowsy and not drowsy\n",
        "\n",
        "\n",
        "if torch.cuda.device_count() > 1:\n",
        "    print(f\"Let's use {torch.cuda.device_count()} GPUs!\")\n",
        "    model = nn.DataParallel(model)\n",
        "\n",
        "model = model.to(device)\n",
        "\n",
        "epochs = 10\n",
        "criterion = nn.CrossEntropyLoss()\n",
        "optimizer = optim.Adam(model.parameters(), lr=0.001)\n",
        "\n",
        "for epoch in range(epochs):\n",
        "    model.train()\n",
        "    train_loss, train_correct, total = 0, 0, 0\n",
        "    train_bar = tqdm(train_loader, desc=f\"Epoch {epoch+1}/{epochs} [Training]\")\n",
        "\n",
        "    for images, labels in train_bar:\n",
        "        images, labels = images.to(device), labels.to(device)\n",
        "        optimizer.zero_grad()\n",
        "        outputs = model(images)\n",
        "        loss = criterion(outputs, labels)\n",
        "        loss.backward()\n",
        "        optimizer.step()\n",
        "\n",
        "        train_loss += loss.item()\n",
        "        _, predicted = torch.max(outputs, 1)\n",
        "        train_correct += (predicted == labels).sum().item()\n",
        "        total += labels.size(0)\n",
        "\n",
        "        train_bar.set_postfix(loss=loss.item(), accuracy=100 * train_correct / total)\n",
        "\n",
        "    torch.save(model.state_dict(), f\"drowsy_densenet_epoch_{epoch+1}.pth\")\n",
        "\n",
        "    model.eval()\n",
        "    val_loss, val_correct = 0, 0\n",
        "    val_bar = tqdm(val_loader, desc=f\"Epoch {epoch+1}/{epochs} [Validation]\")\n",
        "\n",
        "    with torch.no_grad():\n",
        "        for images, labels in val_bar:\n",
        "            images, labels = images.to(device), labels.to(device)\n",
        "            outputs = model(images)\n",
        "            loss = criterion(outputs, labels)\n",
        "\n",
        "            val_loss += loss.item()\n",
        "            _, predicted = torch.max(outputs, 1)\n",
        "            val_correct += (predicted == labels).sum().item()\n",
        "\n",
        "            val_bar.set_postfix(loss=loss.item(), accuracy=100 * val_correct / len(val_loader.dataset))\n",
        "\n",
        "    test_correct, test_total = 0, 0\n",
        "    test_bar = tqdm(test_loader, desc=f\"Epoch {epoch+1}/{epochs} [Testing]\")\n",
        "    with torch.no_grad():\n",
        "        for images, labels in test_bar:\n",
        "            images, labels = images.to(device), labels.to(device)\n",
        "            outputs = model(images)\n",
        "            _, predicted = torch.max(outputs, 1)\n",
        "            test_correct += (predicted == labels).sum().item()\n",
        "            test_total += labels.size(0)\n",
        "            test_bar.set_postfix(accuracy=100 * test_correct / test_total)\n",
        "\n",
        "    test_acc = 100 * test_correct / test_total\n",
        "\n",
        "    print(f\"Epoch {epoch+1}/{epochs} Summary --> \"\n",
        "          f\"Train Acc: {100 * train_correct / total:.2f}%, \"\n",
        "          f\"Val Acc: {100 * val_correct / len(val_loader.dataset):.2f}%, \"\n",
        "          f\"Test Acc: {test_acc:.2f}%\")"
      ]
    },
    {
      "cell_type": "code",
      "source": [
        "from sklearn.metrics import classification_report, confusion_matrix\n",
        "import matplotlib.pyplot as plt\n",
        "import seaborn as sns\n",
        "\n",
        "target_names = dataset.classes  # e.g., ['drowsy', 'not_drowsy']\n",
        "\n",
        "all_preds = []\n",
        "all_labels = []\n",
        "\n",
        "model.eval()\n",
        "with torch.no_grad():\n",
        "    for images, labels in test_loader:\n",
        "        images, labels = images.to(device), labels.to(device)\n",
        "        outputs = model(images)\n",
        "        _, predicted = torch.max(outputs, 1)\n",
        "        all_preds.extend(predicted.cpu().numpy())\n",
        "        all_labels.extend(labels.cpu().numpy())\n",
        "\n",
        "cm = confusion_matrix(all_labels, all_preds)\n",
        "\n",
        "plt.figure(figsize=(6, 5))\n",
        "sns.heatmap(cm, annot=True, fmt=\"d\", cmap=\"Blues\", xticklabels=target_names, yticklabels=target_names)\n",
        "plt.xlabel(\"Predicted\")\n",
        "plt.ylabel(\"Actual\")\n",
        "plt.title(\"Confusion Matrix\")\n",
        "plt.show()\n",
        "\n",
        "\n",
        "from sklearn.metrics import classification_report\n",
        "print(\"\\nClassification Report:\")\n",
        "print(classification_report(all_labels, all_preds, target_names=target_names))"
      ],
      "metadata": {
        "colab": {
          "base_uri": "https://localhost:8080/",
          "height": 678
        },
        "id": "88c044yfe77e",
        "outputId": "b39e79dd-09a0-4207-c5c5-11660294c4b6"
      },
      "execution_count": null,
      "outputs": [
        {
          "output_type": "display_data",
          "data": {
            "text/plain": [
              "<Figure size 600x500 with 2 Axes>"
            ],
            "image/png": "[encoded data removed]"
          },
          "metadata": {}
        },
        {
          "output_type": "stream",
          "name": "stdout",
          "text": [
            "\n",
            "Classification Report:\n",
            "              precision    recall  f1-score   support\n",
            "\n",
            "      drowsy       0.99      0.99      0.99      5395\n",
            "   notdrowsy       0.99      0.99      0.99      4584\n",
            "\n",
            "    accuracy                           0.99      9979\n",
            "   macro avg       0.99      0.99      0.99      9979\n",
            "weighted avg       0.99      0.99      0.99      9979\n",
            "\n"
          ]
        }
      ]
    }
  ]
}